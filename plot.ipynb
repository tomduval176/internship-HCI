{
 "cells": [
  {
   "cell_type": "code",
   "execution_count": 4,
   "metadata": {},
   "outputs": [],
   "source": [
    "from scipy.stats import invgauss\n",
    "import matplotlib.pyplot as plt\n",
    "import numpy as np"
   ]
  },
  {
   "cell_type": "code",
   "execution_count": 38,
   "metadata": {},
   "outputs": [
    {
     "data": {
      "image/png": "[encoded data removed]",
      "text/plain": [
       "<Figure size 432x288 with 1 Axes>"
      ]
     },
     "metadata": {
      "needs_background": "light"
     },
     "output_type": "display_data"
    }
   ],
   "source": [
    "mu=5\n",
    "fig, ax = plt.subplots(1,1)\n",
    "x = np.linspace(invgauss.ppf(0.01, mu),\n",
    "                10, 100)\n",
    "ax.plot(x, invgauss.pdf(x, mu, scale=2),\n",
    "       'r-', lw=3, alpha=0.6, label='invgauss pdf')\n",
    "plt.show()"
   ]
  },
  {
   "cell_type": "code",
   "execution_count": 54,
   "metadata": {},
   "outputs": [
    {
     "data": {
      "text/plain": [
       "array([ 0.31576316,  2.4948849 ,  1.58535394,  1.23125405,  0.74549112,\n",
       "        9.62439431,  2.43018723,  0.72242506,  1.57829874,  0.58847359,\n",
       "        0.81602013,  0.70609532,  4.20683249,  0.43691632,  2.10555635,\n",
       "        0.93654914,  1.80576206,  2.48295648,  5.9181695 ,  0.45250862,\n",
       "        4.38716092,  1.89136279,  1.36603351,  2.31549188,  0.98651866,\n",
       "        5.34203471,  1.58149018,  0.62344423,  1.88051468,  0.89008166,\n",
       "        1.79018639,  1.98031007,  1.8923138 ,  0.73803838,  4.7268824 ,\n",
       "        1.10724056,  0.20789864,  8.07159821,  2.87117414,  0.82244116,\n",
       "        0.69838332,  0.6630562 ,  2.0800939 ,  0.81273955,  0.92430219,\n",
       "        0.72063295,  2.57257045,  0.72414453,  1.17488134,  0.37476464,\n",
       "        1.06617018,  2.43631014,  3.42393543,  0.71063022,  0.47010329,\n",
       "        2.38252789,  1.6566437 ,  1.3963314 ,  2.09883755,  5.0035324 ,\n",
       "        0.4326079 ,  0.5797103 ,  1.17970337,  1.65540727,  1.20531775,\n",
       "        2.62892809,  1.85280111,  1.00107393,  0.54383828, 10.60396804,\n",
       "        9.26632897,  0.47821679,  2.75935755,  0.49232635,  6.77741966,\n",
       "        2.9437999 ,  1.2349568 ,  1.3916606 ,  0.82968924,  0.67656743,\n",
       "        0.20273458,  1.16429271,  1.5234204 ,  1.39877113,  1.58727868,\n",
       "        6.87426877,  0.60137839,  0.92624393,  0.91562177,  0.89046123,\n",
       "        6.55358118,  7.06687901,  1.01675383,  0.4584705 ,  5.06871482,\n",
       "        1.08245549,  1.0634045 ,  3.47082093,  3.08788718,  4.13002847])"
      ]
     },
     "execution_count": 54,
     "metadata": {},
     "output_type": "execute_result"
    }
   ],
   "source": [
    "r = invgauss.rvs(1.2, scale=2, size=100)\n",
    "r"
   ]
  }
 ],
 "metadata": {
  "kernelspec": {
   "display_name": "Python 3.9.12 ('cnrs@create': conda)",
   "language": "python",
   "name": "python3"
  },
  "language_info": {
   "codemirror_mode": {
    "name": "ipython",
    "version": 3
   },
   "file_extension": ".py",
   "mimetype": "text/x-python",
   "name": "python",
   "nbconvert_exporter": "python",
   "pygments_lexer": "ipython3",
   "version": "3.9.12"
  },
  "orig_nbformat": 4,
  "vscode": {
   "interpreter": {
    "hash": "096e2207c04c7811d09bd4143fbd5c2fa4d60cd00dbc6fe1bae1f750286f7138"
   }
  }
 },
 "nbformat": 4,
 "nbformat_minor": 2
}
